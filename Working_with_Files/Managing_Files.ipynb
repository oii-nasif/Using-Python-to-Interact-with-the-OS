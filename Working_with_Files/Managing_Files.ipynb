{
 "cells": [
  {
   "cell_type": "markdown",
   "id": "fd165332-b428-45ab-a915-d7ad57d24380",
   "metadata": {
    "jp-MarkdownHeadingCollapsed": true,
    "tags": []
   },
   "source": [
    "#### Reading Files"
   ]
  },
  {
   "cell_type": "code",
   "execution_count": 11,
   "id": "b0efa960-07c5-4e69-88c8-ca2739669f43",
   "metadata": {},
   "outputs": [
    {
     "name": "stdout",
     "output_type": "stream",
     "text": [
      "Lorem Ipsum is simply dummy text of the\n",
      "\n"
     ]
    }
   ],
   "source": [
    "file = open(\"spider.txt\")\n",
    "print(file.readline())"
   ]
  },
  {
   "cell_type": "code",
   "execution_count": 12,
   "id": "1786e782-7f38-47a8-b727-7e47909b41ff",
   "metadata": {},
   "outputs": [
    {
     "name": "stdout",
     "output_type": "stream",
     "text": [
      "printing and typesetting industry. Lorem\n",
      "\n"
     ]
    }
   ],
   "source": [
    "print(file.readline()) # readline keeps track of each iteration"
   ]
  },
  {
   "cell_type": "code",
   "execution_count": 13,
   "id": "a7c2f792-86db-4056-8ed2-d450f1009afe",
   "metadata": {},
   "outputs": [
    {
     "name": "stdout",
     "output_type": "stream",
     "text": [
      "Ipsum has been the industry's standard \n",
      "dummy text ever since the 1500s, when an\n",
      "unknown printer took a galley of type and\n",
      "scrambled it to make a\n",
      " \n",
      "\n"
     ]
    }
   ],
   "source": [
    "print(file.read())"
   ]
  },
  {
   "cell_type": "code",
   "execution_count": 17,
   "id": "61c0b2cd-7a9f-4fe1-bcc4-8e5054f92778",
   "metadata": {},
   "outputs": [],
   "source": [
    "file.close()"
   ]
  },
  {
   "cell_type": "markdown",
   "id": "16093eef-3523-42cc-90c5-40b781b20606",
   "metadata": {
    "jp-MarkdownHeadingCollapsed": true,
    "tags": []
   },
   "source": [
    "___\n",
    "#### Iterating through Files"
   ]
  },
  {
   "cell_type": "code",
   "execution_count": 21,
   "id": "b21f6c72-73fb-42d1-8fa9-7c3dbb1c46f0",
   "metadata": {},
   "outputs": [
    {
     "name": "stdout",
     "output_type": "stream",
     "text": [
      "LOREM IPSUM IS SIMPLY DUMMY TEXT OF THE\n",
      "\n",
      "PRINTING AND TYPESETTING INDUSTRY. LOREM\n",
      "\n",
      "IPSUM HAS BEEN THE INDUSTRY'S STANDARD \n",
      "\n",
      "DUMMY TEXT EVER SINCE THE 1500S, WHEN AN\n",
      "\n",
      "UNKNOWN PRINTER TOOK A GALLEY OF TYPE AND\n",
      "\n",
      "SCRAMBLED IT TO MAKE A\n",
      "\n",
      " \n",
      "\n"
     ]
    }
   ],
   "source": [
    "with open (\"spider.txt\") as file:\n",
    "    for line in file:\n",
    "        print(line.upper())"
   ]
  },
  {
   "cell_type": "code",
   "execution_count": 22,
   "id": "3db2b497-3d62-43cc-86b4-32324fa9d90d",
   "metadata": {},
   "outputs": [
    {
     "name": "stdout",
     "output_type": "stream",
     "text": [
      "LOREM IPSUM IS SIMPLY DUMMY TEXT OF THE\n",
      "PRINTING AND TYPESETTING INDUSTRY. LOREM\n",
      "IPSUM HAS BEEN THE INDUSTRY'S STANDARD\n",
      "DUMMY TEXT EVER SINCE THE 1500S, WHEN AN\n",
      "UNKNOWN PRINTER TOOK A GALLEY OF TYPE AND\n",
      "SCRAMBLED IT TO MAKE A\n",
      "\n"
     ]
    }
   ],
   "source": [
    "with open (\"spider.txt\") as file:\n",
    "    for line in file:\n",
    "        print(line.strip().upper())"
   ]
  },
  {
   "cell_type": "code",
   "execution_count": 26,
   "id": "78ec30d5-3d2f-44ba-bd22-dea17ac48d39",
   "metadata": {},
   "outputs": [
    {
     "name": "stdout",
     "output_type": "stream",
     "text": [
      "[' \\n', \"Ipsum has been the industry's standard \\n\", 'Lorem Ipsum is simply dummy text of the\\n', 'dummy text ever since the 1500s, when an\\n', 'printing and typesetting industry. Lorem\\n', 'scrambled it to make a\\n', 'unknown printer took a galley of type and\\n']\n"
     ]
    }
   ],
   "source": [
    "file = open(\"spider.txt\")\n",
    "lines = file.readlines()\n",
    "file.close()\n",
    "lines.sort()\n",
    "print(lines)"
   ]
  },
  {
   "cell_type": "markdown",
   "id": "3b656de4-d025-4b92-b8f4-6cb945cf8ebd",
   "metadata": {
    "jp-MarkdownHeadingCollapsed": true,
    "tags": []
   },
   "source": [
    "___\n",
    "#### Writing Files"
   ]
  },
  {
   "cell_type": "code",
   "execution_count": 27,
   "id": "fc9d0e57-dc00-47e6-aaa5-dec37b70c51d",
   "metadata": {},
   "outputs": [],
   "source": [
    "with open(\"novel.txt\", \"w\") as file:\n",
    "    file.write(\"It was a dark and stormy night.\")"
   ]
  },
  {
   "cell_type": "markdown",
   "id": "1f4f2f54-f5cc-40a3-b939-f4ccd7b68b7d",
   "metadata": {},
   "source": [
    "\"r\": read only (default mode) </br>\n",
    "\"w\": open only </br>\n",
    "\"a\": append </br>\n",
    "\"r+\": read-write </br>"
   ]
  },
  {
   "cell_type": "markdown",
   "id": "bd0a8a71-b7b6-439c-9622-8434b048042f",
   "metadata": {},
   "source": [
    "___\n",
    "#### Working with Files"
   ]
  },
  {
   "cell_type": "code",
   "execution_count": 28,
   "id": "c1acc036-12ad-44ef-88ec-8e0eebd8c616",
   "metadata": {},
   "outputs": [],
   "source": [
    "import os\n",
    "os.remove(\"novel.txt\")"
   ]
  },
  {
   "cell_type": "code",
   "execution_count": 31,
   "id": "75cabcfa-dde8-4068-98ab-241355592501",
   "metadata": {},
   "outputs": [],
   "source": [
    "os.rename(\"first_draft.txt\", \"finished_masterpiece\")"
   ]
  },
  {
   "cell_type": "code",
   "execution_count": 33,
   "id": "d036487d-2f98-4d71-981b-e6f80d0ca8f8",
   "metadata": {},
   "outputs": [
    {
     "data": {
      "text/plain": [
       "True"
      ]
     },
     "execution_count": 33,
     "metadata": {},
     "output_type": "execute_result"
    }
   ],
   "source": [
    "os.path.exists(\"finished_masterpiece\")"
   ]
  },
  {
   "cell_type": "code",
   "execution_count": 34,
   "id": "548dce6c-f9ba-48f7-860d-4586c7bfe7be",
   "metadata": {},
   "outputs": [
    {
     "data": {
      "text/plain": [
       "False"
      ]
     },
     "execution_count": 34,
     "metadata": {},
     "output_type": "execute_result"
    }
   ],
   "source": [
    "os.path.exists(\"first_draft\")"
   ]
  },
  {
   "cell_type": "code",
   "execution_count": 37,
   "id": "139cab13-e247-40e5-8d66-c7806eea66f3",
   "metadata": {},
   "outputs": [
    {
     "data": {
      "text/plain": [
       "229"
      ]
     },
     "execution_count": 37,
     "metadata": {},
     "output_type": "execute_result"
    }
   ],
   "source": [
    "os.path.getsize(\"spider.txt\") # returns value in kilobyte unit"
   ]
  },
  {
   "cell_type": "code",
   "execution_count": 38,
   "id": "d62d8555-d631-4307-a352-c7b16c94c867",
   "metadata": {},
   "outputs": [
    {
     "data": {
      "text/plain": [
       "1633841329.9095862"
      ]
     },
     "execution_count": 38,
     "metadata": {},
     "output_type": "execute_result"
    }
   ],
   "source": [
    "os.path.getmtime(\"spider.txt\")"
   ]
  },
  {
   "cell_type": "code",
   "execution_count": 42,
   "id": "7a9d780c-e77c-414c-bfca-719007ecd031",
   "metadata": {},
   "outputs": [
    {
     "data": {
      "text/plain": [
       "datetime.datetime(2021, 10, 10, 10, 48, 49, 909586)"
      ]
     },
     "execution_count": 42,
     "metadata": {},
     "output_type": "execute_result"
    }
   ],
   "source": [
    "import datetime\n",
    "timestamp = os.path.getmtime(\"spider.txt\")\n",
    "datetime.datetime.fromtimestamp(timestamp)"
   ]
  },
  {
   "cell_type": "code",
   "execution_count": 40,
   "id": "ead9b894-22eb-4585-99b7-553b5156ccca",
   "metadata": {},
   "outputs": [
    {
     "data": {
      "text/plain": [
       "'/home/nasif/Dropbox/GitHub/Using Python to Interact with the OS(Linux)/Working_with_Files/spider.txt'"
      ]
     },
     "execution_count": 40,
     "metadata": {},
     "output_type": "execute_result"
    }
   ],
   "source": [
    "os.path.abspath(\"spider.txt\")"
   ]
  },
  {
   "cell_type": "code",
   "execution_count": 44,
   "id": "e6f306d4-c961-4bd3-be4d-00aa7e588e52",
   "metadata": {},
   "outputs": [
    {
     "name": "stdout",
     "output_type": "stream",
     "text": [
      "/home/nasif/Dropbox/GitHub/Using Python to Interact with the OS(Linux)/Working_with_Files\n"
     ]
    }
   ],
   "source": [
    "print(os.getcwd())"
   ]
  },
  {
   "cell_type": "code",
   "execution_count": 48,
   "id": "c651e5c5-2211-4a5f-9cce-5e7153e6009a",
   "metadata": {},
   "outputs": [
    {
     "data": {
      "text/plain": [
       "'/home/nasif/Dropbox/GitHub/Using Python to Interact with the OS(Linux)/Working_with_Files/new_dir/new_dir'"
      ]
     },
     "execution_count": 48,
     "metadata": {},
     "output_type": "execute_result"
    }
   ],
   "source": [
    "os.mkdir(\"new_dir\")\n",
    "os.chdir(\"new_dir\")\n",
    "os.getcwd()"
   ]
  },
  {
   "cell_type": "code",
   "execution_count": 50,
   "id": "1512cfb6-cdd0-4bda-9a83-62c126cbd93a",
   "metadata": {},
   "outputs": [],
   "source": [
    "os.mkdir(\"newer_dir\")\n",
    "os.rmdir(\"newer_dir\") # rmdir can delete empty directories"
   ]
  },
  {
   "cell_type": "code",
   "execution_count": 54,
   "id": "95f54b99-2ad6-432a-adb3-820bd90c80fd",
   "metadata": {},
   "outputs": [
    {
     "data": {
      "text/plain": [
       "'/home/nasif/Dropbox/GitHub/Using Python to Interact with the OS(Linux)/Working_with_Files/new_dir/new_dir'"
      ]
     },
     "execution_count": 54,
     "metadata": {},
     "output_type": "execute_result"
    }
   ],
   "source": [
    "os.getcwd()"
   ]
  },
  {
   "cell_type": "code",
   "execution_count": 57,
   "id": "dd6008ff-8a2b-45c9-a7ac-02334e0ca8a2",
   "metadata": {},
   "outputs": [
    {
     "data": {
      "text/plain": [
       "['hidden_newline.py',\n",
       " 'finished_masterpiece',\n",
       " 'open_.py',\n",
       " 'write.py',\n",
       " 'spider.txt',\n",
       " '.ipynb_checkpoints',\n",
       " 'Managing_Files.ipynb',\n",
       " 'with.py',\n",
       " 'new_dir',\n",
       " 'os_.py',\n",
       " 'iterate_.py']"
      ]
     },
     "execution_count": 57,
     "metadata": {},
     "output_type": "execute_result"
    }
   ],
   "source": [
    "dir = \"/home/nasif/Dropbox/GitHub/Using Python to Interact with the OS(Linux)/Working_with_Files/\"\n",
    "os.listdir(dir)"
   ]
  },
  {
   "cell_type": "code",
   "execution_count": 58,
   "id": "a58785c3-051d-4be2-82df-fbc89b3a1c4c",
   "metadata": {},
   "outputs": [
    {
     "name": "stdout",
     "output_type": "stream",
     "text": [
      "/home/nasif/Dropbox/GitHub/Using Python to Interact with the OS(Linux)/Working_with_Files/hidden_newline.py is a file.\n",
      "/home/nasif/Dropbox/GitHub/Using Python to Interact with the OS(Linux)/Working_with_Files/finished_masterpiece is a file.\n",
      "/home/nasif/Dropbox/GitHub/Using Python to Interact with the OS(Linux)/Working_with_Files/open_.py is a file.\n",
      "/home/nasif/Dropbox/GitHub/Using Python to Interact with the OS(Linux)/Working_with_Files/write.py is a file.\n",
      "/home/nasif/Dropbox/GitHub/Using Python to Interact with the OS(Linux)/Working_with_Files/spider.txt is a file.\n",
      "/home/nasif/Dropbox/GitHub/Using Python to Interact with the OS(Linux)/Working_with_Files/.ipynb_checkpoints is a directory.\n",
      "/home/nasif/Dropbox/GitHub/Using Python to Interact with the OS(Linux)/Working_with_Files/Managing_Files.ipynb is a file.\n",
      "/home/nasif/Dropbox/GitHub/Using Python to Interact with the OS(Linux)/Working_with_Files/with.py is a file.\n",
      "/home/nasif/Dropbox/GitHub/Using Python to Interact with the OS(Linux)/Working_with_Files/new_dir is a directory.\n",
      "/home/nasif/Dropbox/GitHub/Using Python to Interact with the OS(Linux)/Working_with_Files/os_.py is a file.\n",
      "/home/nasif/Dropbox/GitHub/Using Python to Interact with the OS(Linux)/Working_with_Files/iterate_.py is a file.\n"
     ]
    }
   ],
   "source": [
    "for name in os.listdir(dir):\n",
    "    fullname = os.path.join(dir, name)\n",
    "    if os.path.isdir(fullname):\n",
    "        print(\"{} is a directory.\".format(fullname))\n",
    "    else:\n",
    "        print(\"{} is a file.\".format(fullname))"
   ]
  },
  {
   "cell_type": "markdown",
   "id": "16097c45-347c-4b0b-ba7d-556e00d31c18",
   "metadata": {},
   "source": [
    "___\n",
    "#### Reading and Writing CSV Files"
   ]
  },
  {
   "cell_type": "code",
   "execution_count": null,
   "id": "6f83832b-ab9c-47de-b68c-89ad30ba4008",
   "metadata": {},
   "outputs": [],
   "source": []
  }
 ],
 "metadata": {
  "kernelspec": {
   "display_name": "Python 3 (ipykernel)",
   "language": "python",
   "name": "python3"
  },
  "language_info": {
   "codemirror_mode": {
    "name": "ipython",
    "version": 3
   },
   "file_extension": ".py",
   "mimetype": "text/x-python",
   "name": "python",
   "nbconvert_exporter": "python",
   "pygments_lexer": "ipython3",
   "version": "3.8.12"
  }
 },
 "nbformat": 4,
 "nbformat_minor": 5
}
